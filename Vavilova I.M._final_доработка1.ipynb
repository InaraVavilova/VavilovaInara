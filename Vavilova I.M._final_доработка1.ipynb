{
 "cells": [
  {
   "cell_type": "code",
   "execution_count": 1,
   "metadata": {},
   "outputs": [],
   "source": [
    "import numpy as np\n",
    "import pandas as pd\n",
    "import matplotlib.pyplot as plt\n",
    "import seaborn as sns\n",
    "import warnings\n",
    "warnings.simplefilter('ignore')\n",
    "\n",
    "from sklearn.model_selection import train_test_split\n",
    "from sklearn import linear_model\n",
    "from sklearn.metrics import precision_score, recall_score, f1_score\n",
    "from sklearn import tree\n",
    "from sklearn import ensemble\n",
    "from sklearn import neighbors\n",
    "from sklearn.model_selection import GridSearchCV\n",
    "\n",
    "import pickle"
   ]
  },
  {
   "cell_type": "code",
   "execution_count": 48,
   "metadata": {},
   "outputs": [],
   "source": [
    "df_stores= pd.read_csv('stores data-set.csv')\n",
    "df_sales = pd.read_csv('sales data-set.csv')\n",
    "df_features = pd.read_csv('features data set.csv')"
   ]
  },
  {
   "cell_type": "code",
   "execution_count": 49,
   "metadata": {},
   "outputs": [
    {
     "name": "stdout",
     "output_type": "stream",
     "text": [
      "<class 'pandas.core.frame.DataFrame'>\n",
      "RangeIndex: 45 entries, 0 to 44\n",
      "Data columns (total 3 columns):\n",
      " #   Column  Non-Null Count  Dtype \n",
      "---  ------  --------------  ----- \n",
      " 0   Store   45 non-null     int64 \n",
      " 1   Type    45 non-null     object\n",
      " 2   Size    45 non-null     int64 \n",
      "dtypes: int64(2), object(1)\n",
      "memory usage: 1.2+ KB\n",
      "<class 'pandas.core.frame.DataFrame'>\n",
      "RangeIndex: 421570 entries, 0 to 421569\n",
      "Data columns (total 5 columns):\n",
      " #   Column        Non-Null Count   Dtype  \n",
      "---  ------        --------------   -----  \n",
      " 0   Store         421570 non-null  int64  \n",
      " 1   Dept          421570 non-null  int64  \n",
      " 2   Date          421570 non-null  object \n",
      " 3   Weekly_Sales  421570 non-null  float64\n",
      " 4   IsHoliday     421570 non-null  bool   \n",
      "dtypes: bool(1), float64(1), int64(2), object(1)\n",
      "memory usage: 13.3+ MB\n"
     ]
    }
   ],
   "source": [
    "df_stores.info('stores data-set.csv') #данные о магазинах\n",
    "df_sales.info('sales data-set.csv') #данные о продажах\n",
    "df_features = pd.read_csv('features data set.csv')"
   ]
  },
  {
   "cell_type": "code",
   "execution_count": 51,
   "metadata": {},
   "outputs": [
    {
     "data": {
      "text/html": [
       "<div>\n",
       "<style scoped>\n",
       "    .dataframe tbody tr th:only-of-type {\n",
       "        vertical-align: middle;\n",
       "    }\n",
       "\n",
       "    .dataframe tbody tr th {\n",
       "        vertical-align: top;\n",
       "    }\n",
       "\n",
       "    .dataframe thead th {\n",
       "        text-align: right;\n",
       "    }\n",
       "</style>\n",
       "<table border=\"1\" class=\"dataframe\">\n",
       "  <thead>\n",
       "    <tr style=\"text-align: right;\">\n",
       "      <th></th>\n",
       "      <th>Store</th>\n",
       "      <th>Date</th>\n",
       "      <th>Temperature</th>\n",
       "      <th>Fuel_Price</th>\n",
       "      <th>MarkDown1</th>\n",
       "      <th>MarkDown2</th>\n",
       "      <th>MarkDown3</th>\n",
       "      <th>MarkDown4</th>\n",
       "      <th>MarkDown5</th>\n",
       "      <th>CPI</th>\n",
       "      <th>Unemployment</th>\n",
       "      <th>IsHoliday</th>\n",
       "      <th>Weekly_Sales</th>\n",
       "      <th>Dept</th>\n",
       "      <th>Type</th>\n",
       "      <th>Size</th>\n",
       "    </tr>\n",
       "  </thead>\n",
       "  <tbody>\n",
       "    <tr>\n",
       "      <th>4306</th>\n",
       "      <td>1</td>\n",
       "      <td>01/04/2011</td>\n",
       "      <td>59.17</td>\n",
       "      <td>3.524</td>\n",
       "      <td>NaN</td>\n",
       "      <td>NaN</td>\n",
       "      <td>NaN</td>\n",
       "      <td>NaN</td>\n",
       "      <td>NaN</td>\n",
       "      <td>214.837166</td>\n",
       "      <td>7.682</td>\n",
       "      <td>False</td>\n",
       "      <td>20398.09</td>\n",
       "      <td>1</td>\n",
       "      <td>A</td>\n",
       "      <td>151315</td>\n",
       "    </tr>\n",
       "    <tr>\n",
       "      <th>4307</th>\n",
       "      <td>1</td>\n",
       "      <td>01/04/2011</td>\n",
       "      <td>59.17</td>\n",
       "      <td>3.524</td>\n",
       "      <td>NaN</td>\n",
       "      <td>NaN</td>\n",
       "      <td>NaN</td>\n",
       "      <td>NaN</td>\n",
       "      <td>NaN</td>\n",
       "      <td>214.837166</td>\n",
       "      <td>7.682</td>\n",
       "      <td>False</td>\n",
       "      <td>46991.58</td>\n",
       "      <td>2</td>\n",
       "      <td>A</td>\n",
       "      <td>151315</td>\n",
       "    </tr>\n",
       "    <tr>\n",
       "      <th>4308</th>\n",
       "      <td>1</td>\n",
       "      <td>01/04/2011</td>\n",
       "      <td>59.17</td>\n",
       "      <td>3.524</td>\n",
       "      <td>NaN</td>\n",
       "      <td>NaN</td>\n",
       "      <td>NaN</td>\n",
       "      <td>NaN</td>\n",
       "      <td>NaN</td>\n",
       "      <td>214.837166</td>\n",
       "      <td>7.682</td>\n",
       "      <td>False</td>\n",
       "      <td>8734.19</td>\n",
       "      <td>3</td>\n",
       "      <td>A</td>\n",
       "      <td>151315</td>\n",
       "    </tr>\n",
       "    <tr>\n",
       "      <th>4309</th>\n",
       "      <td>1</td>\n",
       "      <td>01/04/2011</td>\n",
       "      <td>59.17</td>\n",
       "      <td>3.524</td>\n",
       "      <td>NaN</td>\n",
       "      <td>NaN</td>\n",
       "      <td>NaN</td>\n",
       "      <td>NaN</td>\n",
       "      <td>NaN</td>\n",
       "      <td>214.837166</td>\n",
       "      <td>7.682</td>\n",
       "      <td>False</td>\n",
       "      <td>34451.90</td>\n",
       "      <td>4</td>\n",
       "      <td>A</td>\n",
       "      <td>151315</td>\n",
       "    </tr>\n",
       "    <tr>\n",
       "      <th>4310</th>\n",
       "      <td>1</td>\n",
       "      <td>01/04/2011</td>\n",
       "      <td>59.17</td>\n",
       "      <td>3.524</td>\n",
       "      <td>NaN</td>\n",
       "      <td>NaN</td>\n",
       "      <td>NaN</td>\n",
       "      <td>NaN</td>\n",
       "      <td>NaN</td>\n",
       "      <td>214.837166</td>\n",
       "      <td>7.682</td>\n",
       "      <td>False</td>\n",
       "      <td>23598.55</td>\n",
       "      <td>5</td>\n",
       "      <td>A</td>\n",
       "      <td>151315</td>\n",
       "    </tr>\n",
       "    <tr>\n",
       "      <th>...</th>\n",
       "      <td>...</td>\n",
       "      <td>...</td>\n",
       "      <td>...</td>\n",
       "      <td>...</td>\n",
       "      <td>...</td>\n",
       "      <td>...</td>\n",
       "      <td>...</td>\n",
       "      <td>...</td>\n",
       "      <td>...</td>\n",
       "      <td>...</td>\n",
       "      <td>...</td>\n",
       "      <td>...</td>\n",
       "      <td>...</td>\n",
       "      <td>...</td>\n",
       "      <td>...</td>\n",
       "      <td>...</td>\n",
       "    </tr>\n",
       "    <tr>\n",
       "      <th>415150</th>\n",
       "      <td>45</td>\n",
       "      <td>31/12/2010</td>\n",
       "      <td>29.67</td>\n",
       "      <td>3.179</td>\n",
       "      <td>NaN</td>\n",
       "      <td>NaN</td>\n",
       "      <td>NaN</td>\n",
       "      <td>NaN</td>\n",
       "      <td>NaN</td>\n",
       "      <td>182.571448</td>\n",
       "      <td>8.724</td>\n",
       "      <td>True</td>\n",
       "      <td>2072.46</td>\n",
       "      <td>93</td>\n",
       "      <td>B</td>\n",
       "      <td>118221</td>\n",
       "    </tr>\n",
       "    <tr>\n",
       "      <th>415151</th>\n",
       "      <td>45</td>\n",
       "      <td>31/12/2010</td>\n",
       "      <td>29.67</td>\n",
       "      <td>3.179</td>\n",
       "      <td>NaN</td>\n",
       "      <td>NaN</td>\n",
       "      <td>NaN</td>\n",
       "      <td>NaN</td>\n",
       "      <td>NaN</td>\n",
       "      <td>182.571448</td>\n",
       "      <td>8.724</td>\n",
       "      <td>True</td>\n",
       "      <td>3966.80</td>\n",
       "      <td>94</td>\n",
       "      <td>B</td>\n",
       "      <td>118221</td>\n",
       "    </tr>\n",
       "    <tr>\n",
       "      <th>415152</th>\n",
       "      <td>45</td>\n",
       "      <td>31/12/2010</td>\n",
       "      <td>29.67</td>\n",
       "      <td>3.179</td>\n",
       "      <td>NaN</td>\n",
       "      <td>NaN</td>\n",
       "      <td>NaN</td>\n",
       "      <td>NaN</td>\n",
       "      <td>NaN</td>\n",
       "      <td>182.571448</td>\n",
       "      <td>8.724</td>\n",
       "      <td>True</td>\n",
       "      <td>43149.88</td>\n",
       "      <td>95</td>\n",
       "      <td>B</td>\n",
       "      <td>118221</td>\n",
       "    </tr>\n",
       "    <tr>\n",
       "      <th>415153</th>\n",
       "      <td>45</td>\n",
       "      <td>31/12/2010</td>\n",
       "      <td>29.67</td>\n",
       "      <td>3.179</td>\n",
       "      <td>NaN</td>\n",
       "      <td>NaN</td>\n",
       "      <td>NaN</td>\n",
       "      <td>NaN</td>\n",
       "      <td>NaN</td>\n",
       "      <td>182.571448</td>\n",
       "      <td>8.724</td>\n",
       "      <td>True</td>\n",
       "      <td>5881.22</td>\n",
       "      <td>97</td>\n",
       "      <td>B</td>\n",
       "      <td>118221</td>\n",
       "    </tr>\n",
       "    <tr>\n",
       "      <th>415154</th>\n",
       "      <td>45</td>\n",
       "      <td>31/12/2010</td>\n",
       "      <td>29.67</td>\n",
       "      <td>3.179</td>\n",
       "      <td>NaN</td>\n",
       "      <td>NaN</td>\n",
       "      <td>NaN</td>\n",
       "      <td>NaN</td>\n",
       "      <td>NaN</td>\n",
       "      <td>182.571448</td>\n",
       "      <td>8.724</td>\n",
       "      <td>True</td>\n",
       "      <td>74.55</td>\n",
       "      <td>98</td>\n",
       "      <td>B</td>\n",
       "      <td>118221</td>\n",
       "    </tr>\n",
       "  </tbody>\n",
       "</table>\n",
       "<p>421570 rows × 16 columns</p>\n",
       "</div>"
      ],
      "text/plain": [
       "        Store        Date  Temperature  Fuel_Price  MarkDown1  MarkDown2  \\\n",
       "4306        1  01/04/2011        59.17       3.524        NaN        NaN   \n",
       "4307        1  01/04/2011        59.17       3.524        NaN        NaN   \n",
       "4308        1  01/04/2011        59.17       3.524        NaN        NaN   \n",
       "4309        1  01/04/2011        59.17       3.524        NaN        NaN   \n",
       "4310        1  01/04/2011        59.17       3.524        NaN        NaN   \n",
       "...       ...         ...          ...         ...        ...        ...   \n",
       "415150     45  31/12/2010        29.67       3.179        NaN        NaN   \n",
       "415151     45  31/12/2010        29.67       3.179        NaN        NaN   \n",
       "415152     45  31/12/2010        29.67       3.179        NaN        NaN   \n",
       "415153     45  31/12/2010        29.67       3.179        NaN        NaN   \n",
       "415154     45  31/12/2010        29.67       3.179        NaN        NaN   \n",
       "\n",
       "        MarkDown3  MarkDown4  MarkDown5         CPI  Unemployment  IsHoliday  \\\n",
       "4306          NaN        NaN        NaN  214.837166         7.682      False   \n",
       "4307          NaN        NaN        NaN  214.837166         7.682      False   \n",
       "4308          NaN        NaN        NaN  214.837166         7.682      False   \n",
       "4309          NaN        NaN        NaN  214.837166         7.682      False   \n",
       "4310          NaN        NaN        NaN  214.837166         7.682      False   \n",
       "...           ...        ...        ...         ...           ...        ...   \n",
       "415150        NaN        NaN        NaN  182.571448         8.724       True   \n",
       "415151        NaN        NaN        NaN  182.571448         8.724       True   \n",
       "415152        NaN        NaN        NaN  182.571448         8.724       True   \n",
       "415153        NaN        NaN        NaN  182.571448         8.724       True   \n",
       "415154        NaN        NaN        NaN  182.571448         8.724       True   \n",
       "\n",
       "        Weekly_Sales  Dept Type    Size  \n",
       "4306        20398.09     1    A  151315  \n",
       "4307        46991.58     2    A  151315  \n",
       "4308         8734.19     3    A  151315  \n",
       "4309        34451.90     4    A  151315  \n",
       "4310        23598.55     5    A  151315  \n",
       "...              ...   ...  ...     ...  \n",
       "415150       2072.46    93    B  118221  \n",
       "415151       3966.80    94    B  118221  \n",
       "415152      43149.88    95    B  118221  \n",
       "415153       5881.22    97    B  118221  \n",
       "415154         74.55    98    B  118221  \n",
       "\n",
       "[421570 rows x 16 columns]"
      ]
     },
     "execution_count": 51,
     "metadata": {},
     "output_type": "execute_result"
    }
   ],
   "source": [
    "# объединяем файлы\n",
    "data = pd.merge(df_features, df_sales[[\"Date\" , \"Store\" , \"Weekly_Sales\" , \"Dept\"]] ,on=['Date', 'Store'])\n",
    "data = pd.merge(data , df_stores , on = \"Store\")\n",
    "data.sort_values([\"Date\" , \"Store\"])\n",
    "data.sort_values([\"Date\" , \"Store\"])"
   ]
  },
  {
   "cell_type": "code",
   "execution_count": 52,
   "metadata": {},
   "outputs": [
    {
     "name": "stdout",
     "output_type": "stream",
     "text": [
      "<class 'pandas.core.frame.DataFrame'>\n",
      "Int64Index: 421570 entries, 0 to 421569\n",
      "Data columns (total 16 columns):\n",
      " #   Column        Non-Null Count   Dtype  \n",
      "---  ------        --------------   -----  \n",
      " 0   Store         421570 non-null  int64  \n",
      " 1   Date          421570 non-null  object \n",
      " 2   Temperature   421570 non-null  float64\n",
      " 3   Fuel_Price    421570 non-null  float64\n",
      " 4   MarkDown1     150681 non-null  float64\n",
      " 5   MarkDown2     111248 non-null  float64\n",
      " 6   MarkDown3     137091 non-null  float64\n",
      " 7   MarkDown4     134967 non-null  float64\n",
      " 8   MarkDown5     151432 non-null  float64\n",
      " 9   CPI           421570 non-null  float64\n",
      " 10  Unemployment  421570 non-null  float64\n",
      " 11  IsHoliday     421570 non-null  bool   \n",
      " 12  Weekly_Sales  421570 non-null  float64\n",
      " 13  Dept          421570 non-null  int64  \n",
      " 14  Type          421570 non-null  object \n",
      " 15  Size          421570 non-null  int64  \n",
      "dtypes: bool(1), float64(10), int64(3), object(2)\n",
      "memory usage: 51.9+ MB\n"
     ]
    }
   ],
   "source": [
    "data.info()"
   ]
  },
  {
   "cell_type": "code",
   "execution_count": 57,
   "metadata": {},
   "outputs": [],
   "source": [
    "data = data.drop(columns = ['Date', 'MarkDown1', 'MarkDown2', 'MarkDown3', 'MarkDown4', 'MarkDown5', 'Type'],axis = 1)"
   ]
  },
  {
   "cell_type": "code",
   "execution_count": 53,
   "metadata": {},
   "outputs": [],
   "source": [
    "#преобразуем значения True/False в 1/0\n",
    "holidays_factor, types =data['IsHoliday'].factorize()\n",
    "data['IsHoliday'] = holidays_factor"
   ]
  },
  {
   "cell_type": "code",
   "execution_count": 54,
   "metadata": {},
   "outputs": [],
   "source": [
    "#преобразуем числа с плавающей запятой в целое число\n",
    "data[['Temperature', 'CPI', 'Unemployment', 'Weekly_Sales', 'Fuel_Price']] = data[['Temperature', 'CPI', 'Unemployment', 'Weekly_Sales', 'Fuel_Price']].astype (int)"
   ]
  },
  {
   "cell_type": "code",
   "execution_count": 55,
   "metadata": {},
   "outputs": [
    {
     "name": "stdout",
     "output_type": "stream",
     "text": [
      "<class 'pandas.core.frame.DataFrame'>\n",
      "Int64Index: 421570 entries, 0 to 421569\n",
      "Data columns (total 16 columns):\n",
      " #   Column        Non-Null Count   Dtype  \n",
      "---  ------        --------------   -----  \n",
      " 0   Store         421570 non-null  int64  \n",
      " 1   Date          421570 non-null  object \n",
      " 2   Temperature   421570 non-null  int32  \n",
      " 3   Fuel_Price    421570 non-null  int32  \n",
      " 4   MarkDown1     150681 non-null  float64\n",
      " 5   MarkDown2     111248 non-null  float64\n",
      " 6   MarkDown3     137091 non-null  float64\n",
      " 7   MarkDown4     134967 non-null  float64\n",
      " 8   MarkDown5     151432 non-null  float64\n",
      " 9   CPI           421570 non-null  int32  \n",
      " 10  Unemployment  421570 non-null  int32  \n",
      " 11  IsHoliday     421570 non-null  int64  \n",
      " 12  Weekly_Sales  421570 non-null  int32  \n",
      " 13  Dept          421570 non-null  int64  \n",
      " 14  Type          421570 non-null  object \n",
      " 15  Size          421570 non-null  int64  \n",
      "dtypes: float64(5), int32(5), int64(4), object(2)\n",
      "memory usage: 46.6+ MB\n"
     ]
    }
   ],
   "source": [
    "data.info()"
   ]
  },
  {
   "cell_type": "markdown",
   "metadata": {},
   "source": [
    "Возьмем в качестве целевого признака 'IsHoliday' (о-не праздничный день/1-праздничный)"
   ]
  },
  {
   "cell_type": "code",
   "execution_count": 58,
   "metadata": {},
   "outputs": [
    {
     "data": {
      "text/html": [
       "<div>\n",
       "<style scoped>\n",
       "    .dataframe tbody tr th:only-of-type {\n",
       "        vertical-align: middle;\n",
       "    }\n",
       "\n",
       "    .dataframe tbody tr th {\n",
       "        vertical-align: top;\n",
       "    }\n",
       "\n",
       "    .dataframe thead th {\n",
       "        text-align: right;\n",
       "    }\n",
       "</style>\n",
       "<table border=\"1\" class=\"dataframe\">\n",
       "  <thead>\n",
       "    <tr style=\"text-align: right;\">\n",
       "      <th></th>\n",
       "      <th>Store</th>\n",
       "      <th>Temperature</th>\n",
       "      <th>Fuel_Price</th>\n",
       "      <th>CPI</th>\n",
       "      <th>Unemployment</th>\n",
       "      <th>IsHoliday</th>\n",
       "      <th>Weekly_Sales</th>\n",
       "      <th>Dept</th>\n",
       "      <th>Size</th>\n",
       "    </tr>\n",
       "  </thead>\n",
       "  <tbody>\n",
       "    <tr>\n",
       "      <th>0</th>\n",
       "      <td>1</td>\n",
       "      <td>42</td>\n",
       "      <td>2</td>\n",
       "      <td>211</td>\n",
       "      <td>8</td>\n",
       "      <td>0</td>\n",
       "      <td>24924</td>\n",
       "      <td>1</td>\n",
       "      <td>151315</td>\n",
       "    </tr>\n",
       "    <tr>\n",
       "      <th>1</th>\n",
       "      <td>1</td>\n",
       "      <td>42</td>\n",
       "      <td>2</td>\n",
       "      <td>211</td>\n",
       "      <td>8</td>\n",
       "      <td>0</td>\n",
       "      <td>50605</td>\n",
       "      <td>2</td>\n",
       "      <td>151315</td>\n",
       "    </tr>\n",
       "    <tr>\n",
       "      <th>2</th>\n",
       "      <td>1</td>\n",
       "      <td>42</td>\n",
       "      <td>2</td>\n",
       "      <td>211</td>\n",
       "      <td>8</td>\n",
       "      <td>0</td>\n",
       "      <td>13740</td>\n",
       "      <td>3</td>\n",
       "      <td>151315</td>\n",
       "    </tr>\n",
       "    <tr>\n",
       "      <th>3</th>\n",
       "      <td>1</td>\n",
       "      <td>42</td>\n",
       "      <td>2</td>\n",
       "      <td>211</td>\n",
       "      <td>8</td>\n",
       "      <td>0</td>\n",
       "      <td>39954</td>\n",
       "      <td>4</td>\n",
       "      <td>151315</td>\n",
       "    </tr>\n",
       "    <tr>\n",
       "      <th>4</th>\n",
       "      <td>1</td>\n",
       "      <td>42</td>\n",
       "      <td>2</td>\n",
       "      <td>211</td>\n",
       "      <td>8</td>\n",
       "      <td>0</td>\n",
       "      <td>32229</td>\n",
       "      <td>5</td>\n",
       "      <td>151315</td>\n",
       "    </tr>\n",
       "    <tr>\n",
       "      <th>...</th>\n",
       "      <td>...</td>\n",
       "      <td>...</td>\n",
       "      <td>...</td>\n",
       "      <td>...</td>\n",
       "      <td>...</td>\n",
       "      <td>...</td>\n",
       "      <td>...</td>\n",
       "      <td>...</td>\n",
       "      <td>...</td>\n",
       "    </tr>\n",
       "    <tr>\n",
       "      <th>421565</th>\n",
       "      <td>45</td>\n",
       "      <td>58</td>\n",
       "      <td>3</td>\n",
       "      <td>192</td>\n",
       "      <td>8</td>\n",
       "      <td>0</td>\n",
       "      <td>2487</td>\n",
       "      <td>93</td>\n",
       "      <td>118221</td>\n",
       "    </tr>\n",
       "    <tr>\n",
       "      <th>421566</th>\n",
       "      <td>45</td>\n",
       "      <td>58</td>\n",
       "      <td>3</td>\n",
       "      <td>192</td>\n",
       "      <td>8</td>\n",
       "      <td>0</td>\n",
       "      <td>5203</td>\n",
       "      <td>94</td>\n",
       "      <td>118221</td>\n",
       "    </tr>\n",
       "    <tr>\n",
       "      <th>421567</th>\n",
       "      <td>45</td>\n",
       "      <td>58</td>\n",
       "      <td>3</td>\n",
       "      <td>192</td>\n",
       "      <td>8</td>\n",
       "      <td>0</td>\n",
       "      <td>56017</td>\n",
       "      <td>95</td>\n",
       "      <td>118221</td>\n",
       "    </tr>\n",
       "    <tr>\n",
       "      <th>421568</th>\n",
       "      <td>45</td>\n",
       "      <td>58</td>\n",
       "      <td>3</td>\n",
       "      <td>192</td>\n",
       "      <td>8</td>\n",
       "      <td>0</td>\n",
       "      <td>6817</td>\n",
       "      <td>97</td>\n",
       "      <td>118221</td>\n",
       "    </tr>\n",
       "    <tr>\n",
       "      <th>421569</th>\n",
       "      <td>45</td>\n",
       "      <td>58</td>\n",
       "      <td>3</td>\n",
       "      <td>192</td>\n",
       "      <td>8</td>\n",
       "      <td>0</td>\n",
       "      <td>1076</td>\n",
       "      <td>98</td>\n",
       "      <td>118221</td>\n",
       "    </tr>\n",
       "  </tbody>\n",
       "</table>\n",
       "<p>421570 rows × 9 columns</p>\n",
       "</div>"
      ],
      "text/plain": [
       "        Store  Temperature  Fuel_Price  CPI  Unemployment  IsHoliday  \\\n",
       "0           1           42           2  211             8          0   \n",
       "1           1           42           2  211             8          0   \n",
       "2           1           42           2  211             8          0   \n",
       "3           1           42           2  211             8          0   \n",
       "4           1           42           2  211             8          0   \n",
       "...       ...          ...         ...  ...           ...        ...   \n",
       "421565     45           58           3  192             8          0   \n",
       "421566     45           58           3  192             8          0   \n",
       "421567     45           58           3  192             8          0   \n",
       "421568     45           58           3  192             8          0   \n",
       "421569     45           58           3  192             8          0   \n",
       "\n",
       "        Weekly_Sales  Dept    Size  \n",
       "0              24924     1  151315  \n",
       "1              50605     2  151315  \n",
       "2              13740     3  151315  \n",
       "3              39954     4  151315  \n",
       "4              32229     5  151315  \n",
       "...              ...   ...     ...  \n",
       "421565          2487    93  118221  \n",
       "421566          5203    94  118221  \n",
       "421567         56017    95  118221  \n",
       "421568          6817    97  118221  \n",
       "421569          1076    98  118221  \n",
       "\n",
       "[421570 rows x 9 columns]"
      ]
     },
     "execution_count": 58,
     "metadata": {},
     "output_type": "execute_result"
    }
   ],
   "source": [
    "data"
   ]
  },
  {
   "cell_type": "code",
   "execution_count": 59,
   "metadata": {},
   "outputs": [
    {
     "name": "stdout",
     "output_type": "stream",
     "text": [
      "7.04% записей имеют значение целевой переменной отличное от 0 класса.\n"
     ]
    }
   ],
   "source": [
    "# Выясним является ли выборка сбалансированной.\n",
    "mask_min = data['IsHoliday'] > 0\n",
    "ratio = round(data[mask_min].shape[0] / data.shape[0] * 100, 2)\n",
    "print(f'{ratio}% записей имеют значение целевой переменной отличное от 0 класса.')"
   ]
  },
  {
   "cell_type": "code",
   "execution_count": 60,
   "metadata": {},
   "outputs": [
    {
     "data": {
      "text/plain": [
       "0    391909\n",
       "1     29661\n",
       "Name: IsHoliday, dtype: int64"
      ]
     },
     "execution_count": 60,
     "metadata": {},
     "output_type": "execute_result"
    }
   ],
   "source": [
    "data['IsHoliday'].value_counts()"
   ]
  },
  {
   "cell_type": "code",
   "execution_count": 61,
   "metadata": {},
   "outputs": [
    {
     "data": {
      "text/plain": [
       "0    29661\n",
       "1    29661\n",
       "Name: IsHoliday, dtype: int64"
      ]
     },
     "execution_count": 61,
     "metadata": {},
     "output_type": "execute_result"
    }
   ],
   "source": [
    "mask_maj = data['IsHoliday'] == 0\n",
    "data_sample = pd.concat(\n",
    "    [\n",
    "        data[mask_maj].sample(data[mask_min].shape[0]),\n",
    "        data[mask_min]\n",
    "    ],\n",
    "    ignore_index=True\n",
    ")\n",
    "\n",
    "data_sample['IsHoliday'].value_counts()"
   ]
  },
  {
   "cell_type": "code",
   "execution_count": 62,
   "metadata": {},
   "outputs": [
    {
     "name": "stdout",
     "output_type": "stream",
     "text": [
      "Размер обучающей выборки: 47457\n",
      "Размер тестовой выборки: 11865\n"
     ]
    }
   ],
   "source": [
    "X = data_sample.drop(['IsHoliday'], axis=1)\n",
    "y = data_sample[['IsHoliday']]\n",
    "\n",
    "# Разделяем выборку на тестовую и обучающую.\n",
    "X_train, X_test, y_train, y_test = train_test_split(X, y, stratify=y, test_size=0.2, random_state=42)\n",
    "\n",
    "print('Размер обучающей выборки:', X_train.shape[0])\n",
    "print('Размер тестовой выборки:', X_test.shape[0])"
   ]
  },
  {
   "cell_type": "code",
   "execution_count": 40,
   "metadata": {},
   "outputs": [
    {
     "name": "stdout",
     "output_type": "stream",
     "text": [
      "F1 случайное угадывание: 0.167\n"
     ]
    }
   ],
   "source": [
    "# Определим значение F1-метрики для случая случайного угадывания.\n",
    "y_test_pred_rand = np.array([i % 4 for i in range(y_test.shape[0])])\n",
    "\n",
    "print('F1 случайное угадывание:', f1_score(y_test, y_test_pred_rand, average='macro').round(3))"
   ]
  },
  {
   "cell_type": "code",
   "execution_count": 63,
   "metadata": {},
   "outputs": [
    {
     "name": "stdout",
     "output_type": "stream",
     "text": [
      "F1 логистическая регрессия (train): 0.624\n",
      "F1 логистическая регрессия (test): 0.616\n"
     ]
    }
   ],
   "source": [
    "# Создадим объект класса логистическая регрессия.\n",
    "log_reg = linear_model.LogisticRegression(\n",
    "    multi_class='multinomial', \n",
    "    class_weight='balanced',\n",
    "    random_state=42\n",
    ")\n",
    "# Обучаем модель.\n",
    "log_reg.fit(X_train, y_train)\n",
    "\n",
    "# Предсказание класса для обучающей и тестовой выборок.\n",
    "y_test_pred_log_reg = log_reg.predict(X_test)\n",
    "y_train_pred_log_reg = log_reg.predict(X_train)\n",
    "\n",
    "print('F1 логистическая регрессия (train):', f1_score(y_train, y_train_pred_log_reg, average='macro').round(3))\n",
    "print('F1 логистическая регрессия (test):', f1_score(y_test, y_test_pred_log_reg, average='macro').round(3))"
   ]
  },
  {
   "cell_type": "code",
   "execution_count": 64,
   "metadata": {},
   "outputs": [
    {
     "name": "stdout",
     "output_type": "stream",
     "text": [
      "F1 решающие деревья (train): 1.0\n",
      "F1 решающие деревья (test): 0.959\n"
     ]
    }
   ],
   "source": [
    "# Создадим объект класса решающее дерево.\n",
    "dec_tr = tree.DecisionTreeClassifier( \n",
    "    class_weight='balanced',\n",
    "    random_state=42\n",
    ")\n",
    "# Обучаем модель.\n",
    "dec_tr.fit(X_train, y_train)\n",
    "\n",
    "# Предсказание класса для обучающей и тестовой выборок.\n",
    "y_test_pred_dec_tr = dec_tr.predict(X_test)\n",
    "y_train_pred_dec_tr = dec_tr.predict(X_train)\n",
    "\n",
    "print('F1 решающие деревья (train):', f1_score(y_train, y_train_pred_dec_tr, average='macro').round(3))\n",
    "print('F1 решающие деревья (test):', f1_score(y_test, y_test_pred_dec_tr, average='macro').round(3))"
   ]
  },
  {
   "cell_type": "code",
   "execution_count": 65,
   "metadata": {},
   "outputs": [
    {
     "data": {
      "image/png": "[encoded data removed]",
      "text/plain": [
       "<Figure size 1600x800 with 1 Axes>"
      ]
     },
     "metadata": {},
     "output_type": "display_data"
    }
   ],
   "source": [
    "# Подберем оптимальную глубину дерева решений.\n",
    "max_depths = range(10, 105, 10)\n",
    "f1_train = []\n",
    "f1_test = []\n",
    "\n",
    "for max_depth in max_depths:\n",
    "    dt = tree.DecisionTreeClassifier(\n",
    "        max_depth=max_depth,\n",
    "        class_weight='balanced',\n",
    "        random_state=42\n",
    "    )\n",
    "    dt.fit(X_train, y_train)\n",
    "    y_train_pred_dt = dt.predict(X_train)\n",
    "    y_test_pred_dt = dt.predict(X_test)\n",
    "    f1_train.append(f1_score(y_train, y_train_pred_dt, average='macro'))\n",
    "    f1_test.append(f1_score(y_test, y_test_pred_dt, average='macro'))\n",
    "    \n",
    "# Построим линейный графики изменения F1-метрики в зависимости от значения параметра глубины дерева решений\n",
    "fig, ax = plt.subplots(figsize=(16, 8))\n",
    "\n",
    "ax.plot(\n",
    "    list(max_depths),\n",
    "    f1_train,\n",
    "    color='blue',\n",
    "    label='F1-метрика на тренировочной выборке'\n",
    ")\n",
    "\n",
    "ax.plot(\n",
    "    list(max_depths),\n",
    "    f1_test,\n",
    "    color='green',\n",
    "    label='F1-метрика на тестовой выборке'\n",
    ")\n",
    "    \n",
    "ax.set_title('Значение F1-метрики в зависимости от глубины дерева решений', fontsize=16)\n",
    "ax.set_xlabel('Глубина дерева решений')\n",
    "ax.set_ylabel('F1-метрика')\n",
    "ax.legend();"
   ]
  },
  {
   "cell_type": "code",
   "execution_count": 66,
   "metadata": {},
   "outputs": [
    {
     "name": "stdout",
     "output_type": "stream",
     "text": [
      "F1 решающие деревья (train): 0.998\n",
      "F1 решающие деревья (test): 0.959\n"
     ]
    }
   ],
   "source": [
    "# Создадим объект класса решающее дерево.\n",
    "dtr_lim = tree.DecisionTreeClassifier( \n",
    "    max_depth=30,\n",
    "    class_weight='balanced',\n",
    "    random_state=42\n",
    ")\n",
    "\n",
    "# Обучаем модель.\n",
    "dtr_lim.fit(X_train, y_train)\n",
    "\n",
    "# Предсказание класса для обучающей и тестовой выборок.\n",
    "y_test_pred_dtr_lim = dtr_lim.predict(X_test)\n",
    "y_train_pred_dtr_lim = dtr_lim.predict(X_train)\n",
    "\n",
    "print('F1 решающие деревья (train):', f1_score(y_train, y_train_pred_dtr_lim, average='macro').round(3))\n",
    "print('F1 решающие деревья (test):', f1_score(y_test, y_test_pred_dtr_lim, average='macro').round(3))"
   ]
  },
  {
   "cell_type": "markdown",
   "metadata": {},
   "source": [
    "Модель классификации на основании алгоритма k ближайших соседей с параметрами по умолчанию"
   ]
  },
  {
   "cell_type": "code",
   "execution_count": 67,
   "metadata": {},
   "outputs": [
    {
     "name": "stdout",
     "output_type": "stream",
     "text": [
      "F1 k ближайших соседей (train): 0.703\n",
      "F1 k ближайших соседей (test): 0.515\n"
     ]
    }
   ],
   "source": [
    "# Создадим объект класса.\n",
    "kn_cls = neighbors.KNeighborsClassifier(n_jobs = -1)\n",
    "\n",
    "# Обучаем модель.\n",
    "kn_cls.fit(X_train, y_train)\n",
    "\n",
    "# Предсказание класса для обучающей и тестовой выборок.\n",
    "y_test_pred_kn_cls = kn_cls.predict(X_test)\n",
    "y_train_pred_kn_cls = kn_cls.predict(X_train)\n",
    "\n",
    "print('F1 k ближайших соседей (train):', f1_score(y_train, y_train_pred_kn_cls, average='macro').round(3))\n",
    "print('F1 k ближайших соседей (test):', f1_score(y_test, y_test_pred_kn_cls, average='macro').round(3))"
   ]
  },
  {
   "cell_type": "markdown",
   "metadata": {},
   "source": [
    "\n",
    "Бэггинг"
   ]
  },
  {
   "cell_type": "code",
   "execution_count": 47,
   "metadata": {},
   "outputs": [
    {
     "name": "stdout",
     "output_type": "stream",
     "text": [
      "F1 случайный лес (train): 0.989\n",
      "F1 случайный лес (test): 0.972\n"
     ]
    }
   ],
   "source": [
    "# Создадим объект класса случайный лес, в качестве гиперпараметров передадим \n",
    "# значения, полученные с помощью GridSearchCV.\n",
    "rf_cls = ensemble.RandomForestClassifier(\n",
    "    max_depth=30,\n",
    "    min_samples_split=8,\n",
    "    class_weight='balanced', \n",
    "    random_state=42\n",
    ")\n",
    "\n",
    "# Обучаем модель\n",
    "rf_cls.fit(X_train, y_train)\n",
    "\n",
    "# Предсказание класса для обучающей и тестовой выборок.\n",
    "y_test_pred_rf_cls = rf_cls.predict(X_test)\n",
    "y_train_pred_rf_cls = rf_cls.predict(X_train)\n",
    "\n",
    "print('F1 случайный лес (train):', f1_score(y_train, y_train_pred_rf_cls, average='macro').round(3))\n",
    "print('F1 случайный лес (test):', f1_score(y_test, y_test_pred_rf_cls, average='macro').round(3))"
   ]
  },
  {
   "cell_type": "code",
   "execution_count": 70,
   "metadata": {},
   "outputs": [
    {
     "data": {
      "text/plain": [
       "Temperature     0.505416\n",
       "CPI             0.169867\n",
       "Weekly_Sales    0.074524\n",
       "Store           0.061270\n",
       "Size            0.056507\n",
       "Dept            0.050257\n",
       "Unemployment    0.049057\n",
       "Fuel_Price      0.033102\n",
       "dtype: float64"
      ]
     },
     "execution_count": 70,
     "metadata": {},
     "output_type": "execute_result"
    }
   ],
   "source": [
    "# Выведем ТОП-10 признаков по значимости.\n",
    "feature_importances = (\n",
    "    pd.Series(rf_cls.feature_importances_, index=X.columns)\n",
    "    .sort_values(ascending=False)\n",
    "    .head(10)\n",
    ")\n",
    "feature_importances"
   ]
  },
  {
   "cell_type": "markdown",
   "metadata": {},
   "source": [
    "\n",
    "Бустинг"
   ]
  },
  {
   "cell_type": "code",
   "execution_count": 71,
   "metadata": {},
   "outputs": [
    {
     "name": "stdout",
     "output_type": "stream",
     "text": [
      "F1 адаптивный бустинг (train): 0.999\n",
      "F1 адаптивный бустинг (test): 0.959\n"
     ]
    }
   ],
   "source": [
    "# Реализуем алгоритм адаптивного бустинга.\n",
    "# В качестве базовой модели будем использовать решющие деревья.\n",
    "base_estimator= tree.DecisionTreeClassifier( \n",
    "    max_depth=30,\n",
    "    class_weight='balanced',\n",
    "    random_state=42\n",
    ")\n",
    "\n",
    "# Создадим объект класса AdaBoostClassifier.\n",
    "ada_cls = ensemble.AdaBoostClassifier(\n",
    "    base_estimator=base_estimator,\n",
    "    learning_rate=0.0001,\n",
    "    random_state=42, \n",
    "    n_estimators=50\n",
    ")\n",
    "\n",
    "# Обучаем модель\n",
    "ada_cls.fit(X_train, y_train)\n",
    "\n",
    "# Предсказание класса для обучающей и тестовой выборок.\n",
    "y_test_pred_ada_cls = ada_cls.predict(X_test)\n",
    "y_train_pred_ada_cls = ada_cls.predict(X_train)\n",
    "\n",
    "print('F1 адаптивный бустинг (train):', f1_score(y_train, y_train_pred_ada_cls, average='macro').round(3))\n",
    "print('F1 адаптивный бустинг (test):', f1_score(y_test, y_test_pred_ada_cls, average='macro').round(3))"
   ]
  },
  {
   "cell_type": "code",
   "execution_count": 76,
   "metadata": {},
   "outputs": [
    {
     "name": "stdout",
     "output_type": "stream",
     "text": [
      "Precision тестовая выборка: 0.959\n",
      "Recall тестовая выборка: 0.959\n"
     ]
    }
   ],
   "source": [
    "print('Precision тестовая выборка:', precision_score(y_test, y_test_pred_dtr_lim, average='macro').round(3))\n",
    "print('Recall тестовая выборка:', recall_score(y_test, y_test_pred_dtr_lim, average='macro').round(3))"
   ]
  }
 ],
 "metadata": {
  "kernelspec": {
   "display_name": "Python 3",
   "language": "python",
   "name": "python3"
  },
  "language_info": {
   "codemirror_mode": {
    "name": "ipython",
    "version": 3
   },
   "file_extension": ".py",
   "mimetype": "text/x-python",
   "name": "python",
   "nbconvert_exporter": "python",
   "pygments_lexer": "ipython3",
   "version": "3.9.10"
  }
 },
 "nbformat": 4,
 "nbformat_minor": 2
}
